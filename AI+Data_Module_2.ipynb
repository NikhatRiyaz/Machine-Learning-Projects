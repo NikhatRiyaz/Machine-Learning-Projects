{
 "cells": [
  {
   "cell_type": "markdown",
   "metadata": {
    "id": "YHYq4CKF5xaV"
   },
   "source": [
    "# **Module 2: Foundations of Statistics**"
   ]
  },
  {
   "cell_type": "markdown",
   "metadata": {
    "id": "BmAcTgDb5xad"
   },
   "source": [
    "# Lab Practice 2.1"
   ]
  },
  {
   "cell_type": "markdown",
   "metadata": {
    "id": "h5BfljZT5xae"
   },
   "source": [
    "**Topic:** Campaign Effectiveness Analysis for a Marketing Team\n",
    "\n",
    "**Problem Statement:** A marketing team needs to understand the effectiveness of their recent campaign. Analyze a dataset containing pre- and post-campaign sales figures. Use descriptive and inferential statistics to evaluate the campaign's impact.\n"
   ]
  },
  {
   "cell_type": "markdown",
   "metadata": {
    "id": "j8TXSmAo5xaf"
   },
   "source": [
    "**Steps to be followed:**\n",
    "\n",
    "1.\tCreating the Dataset:\n",
    "\n",
    "          a. Three lists were created: dates, sales, and campaign, each containing data for the respective columns in the DataFrame.\n",
    "2.\tEnsuring List Length Consistency:\n",
    "\n",
    "          a. The initial issue was caused by the lists not having the same length. To address this, the lengths of the lists were checked and truncated to the length of the shortest list.\n",
    "          b. This step ensures that all lists have the same number of elements, preventing the ValueError when creating the DataFrame.\n",
    "\n",
    "3.\tCreating the DataFrame:\n",
    "\n",
    "          a. The lists dates, sales, and campaign were used to create a DataFrame named df.\n",
    "          b. The Date column was converted to datetime format for proper date handling and analysis.\n",
    "\n",
    "4.\tDisplaying Data Information:\n",
    "\n",
    "          a. The first few rows of the DataFrame were printed using print(df.head()).\n",
    "          b. Basic information about the DataFrame (data types, non-null counts) was displayed using print(df.info()).\n",
    "          c. Summary statistics for the DataFrame were printed using print(df.describe()).\n",
    "          d. A check for missing values was performed using print(df.isnull().sum()).\n",
    "\n",
    "5.\tSeparating Data into Pre- and Post-Campaign:\n",
    "\n",
    "          a. The data was split into two separate DataFrames, pre_campaign and post_campaign, based on the 'Campaign' column values ('Pre' and 'Post').\n",
    "\n",
    "6.\tDescriptive Statistics:\n",
    "\n",
    "          a. Summary statistics for the Sales column were printed separately for the pre-campaign and post-campaign periods.\n",
    "7.\tVisualizing the Data:\n",
    "\n",
    "Histograms:\n",
    "\n",
    "          a. Histograms with kernel density estimates (KDE) for the pre-campaign and post-campaign sales were plotted using Seaborn's histplot function.\n",
    "          b. The histograms were overlaid on the same plot for comparison.\n",
    "Boxplot:\n",
    "\n",
    "          a. A boxplot comparing the distribution of sales for the pre-campaign and post-campaign periods was created using Seaborn's boxplot function.\n",
    "8.\tInferential Statistics:\n",
    "\n",
    "          a. A t-test was performed to compare the mean sales between the pre-campaign and post-campaign periods using stats.ttest_ind.\n",
    "          b. The t-test results (t-statistic and p-value) were printed.\n",
    "          c. The results were interpreted using a significance level (alpha) of 0.05. If the p-value is less than 0.05, it indicates a significant difference in sales between the two periods, leading to the rejection of the null hypothesis. Otherwise, the null hypothesis is not rejected.\n"
   ]
  },
  {
   "cell_type": "markdown",
   "metadata": {},
   "source": [
    "**step 1: import libraries**"
   ]
  },
  {
   "cell_type": "code",
   "execution_count": 1,
   "metadata": {
    "id": "Iu5ZbxQH53CS"
   },
   "outputs": [],
   "source": [
    "import pandas as pd\n",
    "import matplotlib.pyplot as plt\n",
    "import seaborn as sns\n",
    "from scipy import stats"
   ]
  },
  {
   "cell_type": "markdown",
   "metadata": {
    "id": "nzeH2rS753eq"
   },
   "source": [
    "**Step 2: Create the dataset**"
   ]
  },
  {
   "cell_type": "code",
   "execution_count": 2,
   "metadata": {
    "id": "d0AUtq9d5xah"
   },
   "outputs": [],
   "source": [
    "dates = [\n",
    "    '2023-01-01', '2023-01-02', '2023-01-03', '2023-01-04', '2023-01-05',\n",
    "    '2023-01-06', '2023-01-07', '2023-01-08', '2023-01-09', '2023-01-10',\n",
    "    '2023-01-11', '2023-01-12', '2023-01-13', '2023-01-14', '2023-01-15',\n",
    "    '2023-01-16', '2023-01-17', '2023-01-18', '2023-01-19', '2023-01-20',\n",
    "    '2023-01-21', '2023-01-22', '2023-01-23', '2023-01-24', '2023-01-25',\n",
    "    '2023-01-26', '2023-01-27', '2023-01-28', '2023-01-29', '2023-01-30',\n",
    "    '2023-01-31', '2023-02-01', '2023-02-02', '2023-02-03', '2023-02-04',\n",
    "    '2023-02-05', '2023-02-06', '2023-02-07', '2023-02-08', '2023-02-09',\n",
    "    '2023-02-10', '2023-02-11', '2023-02-12', '2023-02-13', '2023-02-14',\n",
    "    '2023-02-15', '2023-02-16', '2023-02-17', '2023-02-18', '2023-02-19',\n",
    "    '2023-02-20', '2023-02-21', '2023-02-22', '2023-02-23', '2023-02-24',\n",
    "    '2023-02-25', '2023-02-26', '2023-02-27', '2023-02-28'\n",
    "]\n",
    "\n",
    "sales = [\n",
    "    200, 220, 250, 230, 260, 240, 210, 280, 270, 260,\n",
    "    230, 250, 240, 270, 220, 260, 270, 280, 250, 240,\n",
    "    260, 270, 240, 250, 270, 260, 280, 250, 240, 260,\n",
    "    270, 290, 310, 300, 320, 330, 340, 350, 360, 370,\n",
    "    380, 390, 400, 410, 420, 430, 440, 450, 460, 470,\n",
    "    480, 490, 500, 510, 520, 530, 540, 550\n",
    "]\n",
    "\n",
    "campaign = [\n",
    "    'Pre', 'Pre', 'Pre', 'Pre', 'Pre', 'Pre', 'Pre', 'Pre', 'Pre', 'Pre',\n",
    "    'Pre', 'Pre', 'Pre', 'Pre', 'Pre', 'Pre', 'Pre', 'Pre', 'Pre', 'Pre',\n",
    "    'Pre', 'Pre', 'Pre', 'Pre', 'Pre', 'Pre', 'Pre', 'Pre', 'Pre', 'Pre',\n",
    "    'Pre', 'Post', 'Post', 'Post', 'Post', 'Post', 'Post', 'Post', 'Post', 'Post',\n",
    "    'Post', 'Post', 'Post', 'Post', 'Post', 'Post', 'Post', 'Post', 'Post', 'Post',\n",
    "    'Post', 'Post', 'Post', 'Post', 'Post', 'Post', 'Post', 'Post'\n",
    "]"
   ]
  },
  {
   "cell_type": "markdown",
   "metadata": {
    "id": "W8NaPA2O5_aI"
   },
   "source": [
    "**Step 3: Ensure all lists are the same length**"
   ]
  },
  {
   "cell_type": "code",
   "execution_count": 3,
   "metadata": {
    "id": "ygYhzrpl5xaj"
   },
   "outputs": [],
   "source": [
    "min_length = min(len(dates), len(sales), len(campaign))\n",
    "dates = dates[:min_length]\n",
    "sales = sales[:min_length]\n",
    "campaign = campaign[:min_length]"
   ]
  },
  {
   "cell_type": "markdown",
   "metadata": {
    "id": "yngbygX-6COl"
   },
   "source": [
    "**Step 4: Create the DataFrame**"
   ]
  },
  {
   "cell_type": "code",
   "execution_count": 4,
   "metadata": {
    "id": "v78GoLAM5xal"
   },
   "outputs": [],
   "source": [
    "df = pd.DataFrame({\n",
    "    'Date': dates,\n",
    "    'Sales': sales,\n",
    "    'Campaign': campaign\n",
    "})"
   ]
  },
  {
   "cell_type": "markdown",
   "metadata": {
    "id": "CRFr93Zq6IAW"
   },
   "source": [
    "**Step 5: Convert 'Date' column to datetime**"
   ]
  },
  {
   "cell_type": "code",
   "execution_count": 5,
   "metadata": {
    "id": "0_A6D0kX5xam"
   },
   "outputs": [],
   "source": [
    "df['Date'] = pd.to_datetime(df['Date'])"
   ]
  },
  {
   "cell_type": "markdown",
   "metadata": {
    "id": "NrlsOgkT6MWb"
   },
   "source": [
    "**Step 6: Display the data**"
   ]
  },
  {
   "cell_type": "code",
   "execution_count": 6,
   "metadata": {
    "id": "MXJeT_Bt5xan"
   },
   "outputs": [
    {
     "name": "stdout",
     "output_type": "stream",
     "text": [
      "        Date  Sales Campaign\n",
      "0 2023-01-01    200      Pre\n",
      "1 2023-01-02    220      Pre\n",
      "2 2023-01-03    250      Pre\n",
      "3 2023-01-04    230      Pre\n",
      "4 2023-01-05    260      Pre\n",
      "<class 'pandas.core.frame.DataFrame'>\n",
      "RangeIndex: 58 entries, 0 to 57\n",
      "Data columns (total 3 columns):\n",
      " #   Column    Non-Null Count  Dtype         \n",
      "---  ------    --------------  -----         \n",
      " 0   Date      58 non-null     datetime64[ns]\n",
      " 1   Sales     58 non-null     int64         \n",
      " 2   Campaign  58 non-null     object        \n",
      "dtypes: datetime64[ns](1), int64(1), object(1)\n",
      "memory usage: 1.5+ KB\n",
      "None\n",
      "                      Date       Sales\n",
      "count                   58   58.000000\n",
      "mean   2023-01-29 12:00:00  329.655172\n",
      "min    2023-01-01 00:00:00  200.000000\n",
      "25%    2023-01-15 06:00:00  250.000000\n",
      "50%    2023-01-29 12:00:00  280.000000\n",
      "75%    2023-02-12 18:00:00  407.500000\n",
      "max    2023-02-27 00:00:00  550.000000\n",
      "std                    NaN  101.652409\n",
      "Date        0\n",
      "Sales       0\n",
      "Campaign    0\n",
      "dtype: int64\n",
      "Pre-campaign sales statistics:\n",
      "count     31.000000\n",
      "mean     250.967742\n",
      "std       20.713094\n",
      "min      200.000000\n",
      "25%      240.000000\n",
      "50%      250.000000\n",
      "75%      270.000000\n",
      "max      280.000000\n",
      "Name: Sales, dtype: float64\n",
      "Post-campaign sales statistics:\n",
      "count     27.000000\n",
      "mean     420.000000\n",
      "std       79.372539\n",
      "min      290.000000\n",
      "25%      355.000000\n",
      "50%      420.000000\n",
      "75%      485.000000\n",
      "max      550.000000\n",
      "Name: Sales, dtype: float64\n"
     ]
    }
   ],
   "source": [
    "# Display the first few rows of the dataset\n",
    "print(df.head())\n",
    "\n",
    "# Basic data information\n",
    "print(df.info())\n",
    "print(df.describe())\n",
    "\n",
    "# Check for missing values\n",
    "print(df.isnull().sum())\n",
    "\n",
    "# Separate data into pre- and post-campaign\n",
    "pre_campaign = df[df['Campaign'] == 'Pre']\n",
    "post_campaign = df[df['Campaign'] == 'Post']\n",
    "\n",
    "# Descriptive statistics\n",
    "print(\"Pre-campaign sales statistics:\")\n",
    "print(pre_campaign['Sales'].describe())\n",
    "\n",
    "print(\"Post-campaign sales statistics:\")\n",
    "print(post_campaign['Sales'].describe())"
   ]
  },
  {
   "cell_type": "markdown",
   "metadata": {
    "id": "G-4bogwH6TVw"
   },
   "source": [
    "**Step 7: Visualization**"
   ]
  },
  {
   "cell_type": "code",
   "execution_count": 7,
   "metadata": {
    "id": "a8juDNcy5xao",
    "outputId": "7ed91fd0-382f-436e-a18f-2ca298ae2812"
   },
   "outputs": [
    {
     "data": {
      "image/png": "[encoded data removed]",
      "text/plain": [
       "<Figure size 1000x600 with 1 Axes>"
      ]
     },
     "metadata": {},
     "output_type": "display_data"
    },
    {
     "data": {
      "image/png": "[encoded data removed]",
      "text/plain": [
       "<Figure size 1000x600 with 1 Axes>"
      ]
     },
     "metadata": {},
     "output_type": "display_data"
    },
    {
     "name": "stdout",
     "output_type": "stream",
     "text": [
      "T-statistic: -11.43219819150017, P-value: 2.8689975771285447e-16\n",
      "Reject the null hypothesis: There is a significant difference in sales pre- and post-campaign.\n"
     ]
    }
   ],
   "source": [
    "plt.figure(figsize=(10, 6))\n",
    "sns.histplot(pre_campaign['Sales'], kde=True, color='blue', label='Pre-campaign')\n",
    "sns.histplot(post_campaign['Sales'], kde=True, color='red', label='Post-campaign')\n",
    "plt.title('Distribution of Sales Pre- and Post-Campaign')\n",
    "plt.xlabel('Sales')\n",
    "plt.ylabel('Frequency')\n",
    "plt.legend()\n",
    "plt.show()\n",
    "\n",
    "# Boxplot\n",
    "plt.figure(figsize=(10, 6))\n",
    "sns.boxplot(x='Campaign', y='Sales', data=df)\n",
    "plt.title('Sales Distribution Pre- and Post-Campaign')\n",
    "plt.xlabel('Campaign')\n",
    "plt.ylabel('Sales')\n",
    "plt.show()\n",
    "\n"
   ]
  },
  {
   "cell_type": "markdown",
   "metadata": {},
   "source": [
    "**Step 8:Inferential statistics: t-test**"
   ]
  },
  {
   "cell_type": "code",
   "execution_count": 8,
   "metadata": {},
   "outputs": [
    {
     "name": "stdout",
     "output_type": "stream",
     "text": [
      "T-statistic: -11.43219819150017, P-value: 2.8689975771285447e-16\n",
      "Reject the null hypothesis: There is a significant difference in sales pre- and post-campaign.\n"
     ]
    }
   ],
   "source": [
    "\n",
    "t_stat, p_value = stats.ttest_ind(pre_campaign['Sales'], post_campaign['Sales'])\n",
    "print(f\"T-statistic: {t_stat}, P-value: {p_value}\")\n",
    "\n",
    "# Interpret the result\n",
    "alpha = 0.05\n",
    "if p_value < alpha:\n",
    "    print(\"Reject the null hypothesis: There is a significant difference in sales pre- and post-campaign.\")\n",
    "else:\n",
    "    print(\"Fail to reject the null hypothesis: There is no significant difference in sales pre- and post-campaign.\")\n"
   ]
  }
 ],
 "metadata": {
  "colab": {
   "provenance": []
  },
  "kernelspec": {
   "display_name": "Python 3 (ipykernel)",
   "language": "python",
   "name": "python3"
  },
  "language_info": {
   "codemirror_mode": {
    "name": "ipython",
    "version": 3
   },
   "file_extension": ".py",
   "mimetype": "text/x-python",
   "name": "python",
   "nbconvert_exporter": "python",
   "pygments_lexer": "ipython3",
   "version": "3.12.3"
  }
 },
 "nbformat": 4,
 "nbformat_minor": 4
}
