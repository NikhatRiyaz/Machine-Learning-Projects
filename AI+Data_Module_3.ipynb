{
 "cells": [
  {
   "cell_type": "markdown",
   "metadata": {
    "id": "mA4LjCIq7ZxW"
   },
   "source": [
    "# **Module 3: Data Sources and Types**"
   ]
  },
  {
   "cell_type": "markdown",
   "metadata": {
    "id": "BrcoU1Io7Zxe"
   },
   "source": [
    "# Lab Practice 3.1"
   ]
  },
  {
   "cell_type": "markdown",
   "metadata": {
    "id": "pbz67iJc7Zxf"
   },
   "source": [
    "**Topic:** Data Integration for an E-commerce Company\n",
    "\n",
    "**Problem Statement:** An e-commerce company wants to integrate data from various sources for a comprehensive analysis. Extract product and customer data from SQL databases, APIs, and web scraping, then combine and preprocess this data for analysis.\n"
   ]
  },
  {
   "cell_type": "markdown",
   "metadata": {
    "id": "uq2tOVE27Zxh"
   },
   "source": [
    "**Steps to be followed:**\n",
    "\n",
    "1.\tSample Data for SQL Databases:\n",
    "\n",
    "            a. Created sample data dictionaries for products and customers.\n",
    "            b. Converted these dictionaries to DataFrames.\n",
    "2.\tSample Data for APIs:\n",
    "\n",
    "            a. Created sample data lists of dictionaries for products and customers.\n",
    "            b. Converted these lists to DataFrames.\n",
    "3.\tSample Data for Web Scraping:\n",
    "\n",
    "            a. Created sample HTML content for product and customer data tables.\n",
    "            b. Parsed the HTML content using BeautifulSoup and extracted data into DataFrames.\n",
    "4.\tCombining Data:\n",
    "\n",
    "            a. Combined DataFrames from SQL, API, and web scraping sources using pd.concat.\n",
    "5.\tPreprocessing Data:\n",
    "\n",
    "            a. Cleaned the combined data by removing duplicates and filling missing values using forward fill.\n",
    "6.\tSaving Data:\n",
    "\n",
    "            a. Saved the combined and preprocessed data to CSV files for further analysis.\n",
    "7.\tDisplaying Data:\n",
    "\n",
    "            a. Printed the combined and preprocessed datasets for verification.\n"
   ]
  },
  {
   "cell_type": "markdown",
   "metadata": {
    "id": "R4IRVcAs7h-b"
   },
   "source": [
    "**Step 1: Import libraries and Sample Data for SQL Databases**"
   ]
  },
  {
   "cell_type": "code",
   "execution_count": 16,
   "metadata": {},
   "outputs": [],
   "source": [
    "import pandas as pd\n",
    "from bs4 import BeautifulSoup"
   ]
  },
  {
   "cell_type": "code",
   "execution_count": 2,
   "metadata": {
    "id": "f7NG6GP77Zxi"
   },
   "outputs": [],
   "source": [
    "product_data_sql = {\n",
    "    'product_id': [1, 2, 3],\n",
    "    'product_name': ['Laptop', 'Smartphone', 'Tablet'],\n",
    "    'category': ['Electronics', 'Electronics', 'Electronics'],\n",
    "    'price': [1000, 500, 300],\n",
    "    'stock': [50, 100, 75]\n",
    "}\n",
    "\n",
    "customer_data_sql = {\n",
    "    'customer_id': [101, 102, 103],\n",
    "    'customer_name': ['Alice', 'Bob', 'Charlie'],\n",
    "    'email': ['alice@example.com', 'bob@example.com', 'charlie@example.com'],\n",
    "    'address': ['123 Main St', '456 Maple Ave', '789 Oak Dr'],\n",
    "    'phone': ['123-456-7890', '234-567-8901', '345-678-9012']\n",
    "}"
   ]
  },
  {
   "cell_type": "markdown",
   "metadata": {
    "id": "wH5PnJt-7p9D"
   },
   "source": [
    "**Step 2: Convert to DataFrame**"
   ]
  },
  {
   "cell_type": "code",
   "execution_count": 3,
   "metadata": {
    "id": "nFz0Unqq7Zxl"
   },
   "outputs": [],
   "source": [
    "products_sql = pd.DataFrame(product_data_sql)\n",
    "customers_sql = pd.DataFrame(customer_data_sql)"
   ]
  },
  {
   "cell_type": "markdown",
   "metadata": {
    "id": "NlYHwThD7tQP"
   },
   "source": [
    "**Step 3: Sample Data for APIs**"
   ]
  },
  {
   "cell_type": "code",
   "execution_count": 4,
   "metadata": {
    "id": "9yALi_ID7Zxm"
   },
   "outputs": [],
   "source": [
    "product_data_api = [\n",
    "    {'product_id': 4, 'product_name': 'Headphones', 'category': 'Electronics', 'price': 100, 'stock': 200},\n",
    "    {'product_id': 5, 'product_name': 'Smartwatch', 'category': 'Electronics', 'price': 150, 'stock': 150}\n",
    "]\n",
    "\n",
    "customer_data_api = [\n",
    "    {'customer_id': 104, 'customer_name': 'Dave', 'email': 'dave@example.com', 'address': '101 Pine St', 'phone': '456-789-0123'},\n",
    "    {'customer_id': 105, 'customer_name': 'Eve', 'email': 'eve@example.com', 'address': '202 Birch Rd', 'phone': '567-890-1234'}\n",
    "]"
   ]
  },
  {
   "cell_type": "markdown",
   "metadata": {
    "id": "_Sqi6mlQ7yjw"
   },
   "source": [
    "**Step 4: Convert to DataFrame**"
   ]
  },
  {
   "cell_type": "code",
   "execution_count": 5,
   "metadata": {
    "id": "gCnHoRL67Zxm"
   },
   "outputs": [],
   "source": [
    "products_api = pd.DataFrame(product_data_api)\n",
    "customers_api = pd.DataFrame(customer_data_api)"
   ]
  },
  {
   "cell_type": "markdown",
   "metadata": {
    "id": "tqVJAcKy72Rf"
   },
   "source": [
    "**Step 5: Sample Data for Web Scraping (HTML content)**"
   ]
  },
  {
   "cell_type": "code",
   "execution_count": 6,
   "metadata": {
    "id": "UxS9iRxB7Zxn"
   },
   "outputs": [],
   "source": [
    "html_products = \"\"\"\n",
    "<table>\n",
    "    <tr>\n",
    "        <th>product_id</th><th>product_name</th><th>category</th><th>price</th><th>stock</th>\n",
    "    </tr>\n",
    "    <tr>\n",
    "        <td>6</td><td>Keyboard</td><td>Electronics</td><td>50</td><td>300</td>\n",
    "    </tr>\n",
    "    <tr>\n",
    "        <td>7</td><td>Mouse</td><td>Electronics</td><td>30</td><td>400</td>\n",
    "    </tr>\n",
    "</table>\n",
    "\"\"\"\n",
    "\n",
    "html_customers = \"\"\"\n",
    "<table>\n",
    "    <tr>\n",
    "        <th>customer_id</th><th>customer_name</th><th>email</th><th>address</th><th>phone</th>\n",
    "    </tr>\n",
    "    <tr>\n",
    "        <td>106</td><td>Frank</td><td>frank@example.com</td><td>303 Cedar St</td><td>678-901-2345</td>\n",
    "    </tr>\n",
    "    <tr>\n",
    "        <td>107</td><td>Grace</td><td>grace@example.com</td><td>404 Elm St</td><td>789-012-3456</td>\n",
    "    </tr>\n",
    "</table>\n",
    "\"\"\""
   ]
  },
  {
   "cell_type": "markdown",
   "metadata": {
    "id": "3ObbrZQQ77ry"
   },
   "source": [
    "**Step 6: Extract data from HTML content using BeautifulSoup**\n",
    "\n",
    "Beautiful Soup is a Python library for parsing HTML and XML documents, enabling easy extraction and navigation of data from web pages. It is widely used for web scraping and data extraction tasks."
   ]
  },
  {
   "cell_type": "code",
   "execution_count": 7,
   "metadata": {
    "id": "NuCKjAI97Zxp"
   },
   "outputs": [
    {
     "name": "stderr",
     "output_type": "stream",
     "text": [
      "/tmp/ipykernel_268704/1429170373.py:24: FutureWarning: DataFrame.fillna with 'method' is deprecated and will raise in a future version. Use obj.ffill() or obj.bfill() instead.\n",
      "  df.fillna(method='ffill', inplace=True)\n"
     ]
    }
   ],
   "source": [
    "def extract_web_data(html):\n",
    "    soup = BeautifulSoup(html, 'html.parser')\n",
    "    table = soup.find('table')\n",
    "    rows = table.find_all('tr')\n",
    "    data = []\n",
    "    for row in rows:\n",
    "        cols = row.find_all('td')\n",
    "        cols = [ele.text.strip() for ele in cols]\n",
    "        if cols:\n",
    "            data.append(cols)\n",
    "    return pd.DataFrame(data, columns=[th.text.strip() for th in rows[0].find_all('th')])\n",
    "\n",
    "products_web = extract_web_data(html_products)\n",
    "customers_web = extract_web_data(html_customers)\n",
    "\n",
    "# Combine Data\n",
    "products_combined = pd.concat([products_sql, products_api, products_web], ignore_index=True)\n",
    "customers_combined = pd.concat([customers_sql, customers_api, customers_web], ignore_index=True)\n",
    "\n",
    "# Preprocess Data\n",
    "def preprocess_data(df):\n",
    "    # Example preprocessing steps\n",
    "    df.drop_duplicates(inplace=True)\n",
    "    df.fillna(method='ffill', inplace=True)\n",
    "    return df\n",
    "\n",
    "products_combined = preprocess_data(products_combined)\n",
    "customers_combined = preprocess_data(customers_combined)"
   ]
  },
  {
   "cell_type": "markdown",
   "metadata": {
    "id": "q4i1KwE38ALx"
   },
   "source": [
    "**Step 7: Save to CSV for further analysis**"
   ]
  },
  {
   "cell_type": "code",
   "execution_count": 8,
   "metadata": {
    "id": "BXoHjcc-7Zxq"
   },
   "outputs": [
    {
     "name": "stdout",
     "output_type": "stream",
     "text": [
      "Data extraction and preprocessing complete. Combined datasets saved to CSV.\n"
     ]
    }
   ],
   "source": [
    "products_combined.to_csv('products_combined.csv', index=False)\n",
    "customers_combined.to_csv('customers_combined.csv', index=False)\n",
    "\n",
    "print(\"Data extraction and preprocessing complete. Combined datasets saved to CSV.\")"
   ]
  },
  {
   "cell_type": "markdown",
   "metadata": {
    "id": "C3kZYyWq8DxL"
   },
   "source": [
    "**Step 8: Display the combined and preprocessed data**"
   ]
  },
  {
   "cell_type": "code",
   "execution_count": 9,
   "metadata": {
    "id": "ZVwnZseD7Zxq",
    "outputId": "b1f41a7f-9ff6-4c25-894d-5f0c35b6f524"
   },
   "outputs": [
    {
     "name": "stdout",
     "output_type": "stream",
     "text": [
      "  product_id product_name     category price stock\n",
      "0          1       Laptop  Electronics  1000    50\n",
      "1          2   Smartphone  Electronics   500   100\n",
      "2          3       Tablet  Electronics   300    75\n",
      "3          4   Headphones  Electronics   100   200\n",
      "4          5   Smartwatch  Electronics   150   150\n",
      "5          6     Keyboard  Electronics    50   300\n",
      "6          7        Mouse  Electronics    30   400\n",
      "\n",
      "\n",
      "  customer_id customer_name                email        address         phone\n",
      "0         101         Alice    alice@example.com    123 Main St  123-456-7890\n",
      "1         102           Bob      bob@example.com  456 Maple Ave  234-567-8901\n",
      "2         103       Charlie  charlie@example.com     789 Oak Dr  345-678-9012\n",
      "3         104          Dave     dave@example.com    101 Pine St  456-789-0123\n",
      "4         105           Eve      eve@example.com   202 Birch Rd  567-890-1234\n",
      "5         106         Frank    frank@example.com   303 Cedar St  678-901-2345\n",
      "6         107         Grace    grace@example.com     404 Elm St  789-012-3456\n"
     ]
    }
   ],
   "source": [
    "print(products_combined)\n",
    "print(\"\\n\")\n",
    "print(customers_combined)\n"
   ]
  }
 ],
 "metadata": {
  "colab": {
   "provenance": []
  },
  "kernelspec": {
   "display_name": "Python 3 (ipykernel)",
   "language": "python",
   "name": "python3"
  },
  "language_info": {
   "codemirror_mode": {
    "name": "ipython",
    "version": 3
   },
   "file_extension": ".py",
   "mimetype": "text/x-python",
   "name": "python",
   "nbconvert_exporter": "python",
   "pygments_lexer": "ipython3",
   "version": "3.12.3"
  }
 },
 "nbformat": 4,
 "nbformat_minor": 4
}
